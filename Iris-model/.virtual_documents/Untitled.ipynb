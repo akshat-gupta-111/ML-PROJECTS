import pandas as pd


from sklearn.ensemble import RandomForestClassifier


from sklearn.model_selection import train_test_split


data = pd.read_excel("iris-data.xlsx")


data.head()


x = data.iloc[:, :-1]
y = data.iloc[:, -1]
y


x_train,x_test,y_train,y_test = train_test_split(x, y, test_size = 0.2, random_state = 42)


x


model = RandomForestClassifier()


model.fit(x_train.values, y_train.values)


y_pred = model.predict(x_test.values)


y_pred


from sklearn.metrics import accuracy_score, confusion_matrix, classification_report

# Accuracy
print("Accuracy:", accuracy_score(y_test, y_pred))

# Confusion Matrix
print("Confusion Matrix:\n", confusion_matrix(y_test, y_pred))

# Detailed Report
print("Classification Report:\n", classification_report(y_test, y_pred))


from sklearn.metrics import mean_squared_error


mean_squared_error(y_test.values, y_pred.values)



